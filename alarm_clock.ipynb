{
 "metadata": {
  "language_info": {
   "codemirror_mode": {
    "name": "ipython",
    "version": 3
   },
   "file_extension": ".py",
   "mimetype": "text/x-python",
   "name": "python",
   "nbconvert_exporter": "python",
   "pygments_lexer": "ipython3",
   "version": "3.7.6"
  },
  "orig_nbformat": 2,
  "kernelspec": {
   "name": "python376jvsc74a57bd0c6436f3c20611442dd4213dc7da6ad6cd6ff444c6dfb6ee1f0ac7656a045beb3",
   "display_name": "Python 3.7.6 64-bit ('py3': conda)"
  }
 },
 "nbformat": 4,
 "nbformat_minor": 2,
 "cells": [
  {
   "cell_type": "code",
   "execution_count": 24,
   "metadata": {},
   "outputs": [
    {
     "output_type": "stream",
     "name": "stdout",
     "text": [
      "Alarm Set!\n",
      "Wake Up!!\n"
     ]
    }
   ],
   "source": [
    "from datetime import datetime\n",
    "from playsound import playsound\n",
    "alarm_time = input(\"Enter the time of alarm to be set:HH:MM:SS\\n\")\n",
    "alarm_hours = alarm_time[0:2]\n",
    "alarm_minutes = alarm_time[3:5]\n",
    "alarm_seconds = alarm_time[6:8]\n",
    "alarm_period = alarm_time[9:11].upper()\n",
    "print(\"Alarm Set to -> \" + alarm_time)\n",
    "while True:\n",
    "    dt = datetime.now()\n",
    "    current_hrs = dt.strftime(\"%I\")\n",
    "    current_min = dt.strftime(\"%M\")\n",
    "    current_sec = dt.strftime(\"%S\")\n",
    "    current_period = dt.strftime(\"%p\")\n",
    "    if(alarm_period==current_period):\n",
    "        if(alarm_hours==current_hrs):\n",
    "            if(alarm_minutes==current_min):\n",
    "                if(alarm_seconds==current_sec):\n",
    "                    print(\"Wake Up!!\")\n",
    "                    playsound('wakeup.mp3')\n",
    "                    break\n",
    "\n"
   ]
  },
  {
   "cell_type": "code",
   "execution_count": null,
   "metadata": {},
   "outputs": [],
   "source": []
  }
 ]
}